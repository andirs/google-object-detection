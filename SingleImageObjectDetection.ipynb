{
 "cells": [
  {
   "cell_type": "code",
   "execution_count": 1,
   "metadata": {},
   "outputs": [
    {
     "name": "stderr",
     "output_type": "stream",
     "text": [
      "Using TensorFlow backend.\n",
      "/anaconda3/envs/p3/lib/python3.6/importlib/_bootstrap.py:219: RuntimeWarning: numpy.dtype size changed, may indicate binary incompatibility. Expected 96, got 88\n",
      "  return f(*args, **kwds)\n",
      "/anaconda3/envs/p3/lib/python3.6/importlib/_bootstrap.py:219: RuntimeWarning: numpy.dtype size changed, may indicate binary incompatibility. Expected 96, got 88\n",
      "  return f(*args, **kwds)\n"
     ]
    }
   ],
   "source": [
    "## Import the required libraries \n",
    "\n",
    "from keras.preprocessing.image import ImageDataGenerator\n",
    "from keras.applications.inception_v3 import preprocess_input\n",
    "from keras.utils.data_utils import GeneratorEnqueuer\n",
    "import matplotlib.pyplot as plt\n",
    "import pandas as pd \n",
    "import numpy as np \n",
    "import math, os\n",
    "\n",
    "%matplotlib inline"
   ]
  },
  {
   "cell_type": "code",
   "execution_count": 2,
   "metadata": {},
   "outputs": [
    {
     "name": "stdout",
     "output_type": "stream",
     "text": [
      "Found 5 images belonging to 1 classes.\n"
     ]
    }
   ],
   "source": [
    "image_path = \"./images/\"\n",
    "\n",
    "batch_size = 100\n",
    "img_generator = ImageDataGenerator().flow_from_directory(image_path, shuffle=False, batch_size = batch_size)\n",
    "n_rounds = math.ceil(img_generator.samples / img_generator.batch_size)\n",
    "filenames = img_generator.filenames\n",
    "\n",
    "img_generator = GeneratorEnqueuer(img_generator)\n",
    "img_generator.start()\n",
    "img_generator = img_generator.get()"
   ]
  },
  {
   "cell_type": "code",
   "execution_count": 3,
   "metadata": {},
   "outputs": [],
   "source": [
    "from imageai.Detection import ObjectDetection\n",
    "model_weight_path = \"resnet50_coco_best_v2.0.1.h5\"\n",
    "\n",
    "execution_path = os.getcwd()\n",
    "detector = ObjectDetection()\n",
    "detector.setModelTypeAsRetinaNet()\n",
    "detector.setModelPath(model_weight_path)\n",
    "detector.loadModel()"
   ]
  },
  {
   "cell_type": "code",
   "execution_count": null,
   "metadata": {},
   "outputs": [],
   "source": [
    "detections = detector.detectObjectsFromImage(input_image=os.path.join(execution_path , \"./images/test/0a0a615629231821.jpg\"), output_image_path=os.path.join(execution_path , \"0a0a615629231821new.jpg\"), minimum_percentage_probability=50)"
   ]
  },
  {
   "cell_type": "code",
   "execution_count": 16,
   "metadata": {},
   "outputs": [
    {
     "name": "stdout",
     "output_type": "stream",
     "text": [
      "car 83.84596705436707 420 546 460 562\n",
      "car 81.7827045917511 505 543 546 561\n",
      "car 81.04318976402283 551 546 586 562\n",
      "car 79.88312244415283 772 545 815 563\n",
      "car 88.7209951877594 56 605 99 631\n",
      "car 91.74057841300964 210 651 258 679\n"
     ]
    }
   ],
   "source": [
    "for eachObject in detections:\n",
    "    print(str(eachObject[\"name\"]) + \" \" + str(eachObject[\"percentage_probability\"]) + \" \" + str(eachObject[\"box_points\"][0]) + \" \" + str(eachObject[\"box_points\"][1]) + \" \" + str(eachObject[\"box_points\"][2]) + \" \" + str(eachObject[\"box_points\"][3]))"
   ]
  },
  {
   "cell_type": "code",
   "execution_count": null,
   "metadata": {},
   "outputs": [],
   "source": []
  }
 ],
 "metadata": {
  "kernelspec": {
   "display_name": "Python 3",
   "language": "python",
   "name": "python3"
  },
  "language_info": {
   "codemirror_mode": {
    "name": "ipython",
    "version": 3
   },
   "file_extension": ".py",
   "mimetype": "text/x-python",
   "name": "python",
   "nbconvert_exporter": "python",
   "pygments_lexer": "ipython3",
   "version": "3.6.4"
  }
 },
 "nbformat": 4,
 "nbformat_minor": 2
}
